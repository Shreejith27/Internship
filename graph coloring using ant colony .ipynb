{
 "cells": [
  {
   "cell_type": "code",
   "execution_count": 1,
   "id": "4103d96b",
   "metadata": {},
   "outputs": [],
   "source": [
    "import random\n",
    "import numpy as np\n"
   ]
  },
  {
   "cell_type": "code",
   "execution_count": 2,
   "id": "a27943ed",
   "metadata": {},
   "outputs": [],
   "source": [
    "# Define the graph as an adjacency matrix\n",
    "graph = [\n",
    "    [0, 1, 1, 0],\n",
    "    [1, 0, 1, 1],\n",
    "    [1, 1, 0, 1],\n",
    "    [0, 1, 1, 0]\n",
    "]\n",
    "\n",
    "num_vertices = len(graph)\n",
    "num_colors = 3\n",
    "num_ants = 4\n",
    "max_iterations = 100"
   ]
  },
  {
   "cell_type": "code",
   "execution_count": 3,
   "id": "4ad1b83f",
   "metadata": {},
   "outputs": [],
   "source": [
    "class Ant:\n",
    "    def __init__(self, position):\n",
    "        self.position = position\n",
    "\n",
    "def fitness(position):\n",
    "    conflicts = 0\n",
    "    for i in range(num_vertices):\n",
    "        for j in range(num_vertices):\n",
    "            if graph[i][j] and position[i] == position[j]:\n",
    "                conflicts += 1\n",
    "    return conflicts\n",
    "\n",
    "def initialize_ants():\n",
    "    ants = []\n",
    "    for _ in range(num_ants):\n",
    "        position = np.random.randint(num_colors, size=num_vertices)\n",
    "        ant = Ant(position)\n",
    "        ants.append(ant)\n",
    "    return ants"
   ]
  },
  {
   "cell_type": "code",
   "execution_count": 10,
   "id": "3de1144c",
   "metadata": {},
   "outputs": [],
   "source": [
    "def update_ant(ant, pheromone, alpha, beta):\n",
    "    for i in range(num_vertices):\n",
    "        color_probabilities = []\n",
    "        for color in range(num_colors):\n",
    "            if color in ant.position:\n",
    "                color_probabilities.append(0.0)\n",
    "            else:\n",
    "                pheromone_level = pheromone[i][color]\n",
    "                heuristic_value = calculate_heuristic(ant.position, i, color)\n",
    "                color_probabilities.append(pheromone_level ** alpha * heuristic_value ** beta)\n",
    "        \n",
    "        total_prob = sum(color_probabilities)\n",
    "        \n",
    "        if np.isnan(total_prob):  # Check if total_prob is NaN\n",
    "            available_colors = [color for color in range(num_colors) if color not in ant.position]\n",
    "            num_available_colors = len(available_colors)\n",
    "            probabilities = [1 / num_available_colors] * num_available_colors  # Assign equal probabilities to available colors\n",
    "        else:\n",
    "            probabilities = [p / total_prob for p in color_probabilities]\n",
    "        \n",
    "        chosen_color = np.random.choice(range(num_colors), p=probabilities)\n",
    "        ant.position[i] = chosen_color\n",
    "\n",
    "def calculate_heuristic(position, vertex, color):\n",
    "    conflicts = 0\n",
    "    for i in range(num_vertices):\n",
    "        if graph[vertex][i] and position[i] == color:\n",
    "            conflicts += 1\n",
    "    \n",
    "    if conflicts == 0:\n",
    "        return float('inf')  # Assign a very high heuristic value for conflict-free colorings\n",
    "    \n",
    "    return 1 / conflicts"
   ]
  },
  {
   "cell_type": "code",
   "execution_count": 11,
   "id": "2403e1bc",
   "metadata": {},
   "outputs": [],
   "source": [
    "def update_pheromone(pheromone, ants, evaporation_rate, Q):\n",
    "    pheromone *= evaporation_rate\n",
    "    for ant in ants:\n",
    "        fitness_value = fitness(ant.position)\n",
    "        delta_pheromone = Q / fitness_value\n",
    "        for i in range(num_vertices):\n",
    "            color = ant.position[i]\n",
    "            pheromone[i][color] += delta_pheromone\n",
    "\n",
    "def aco(graph, num_colors, num_ants, max_iterations, alpha, beta, evaporation_rate, Q):\n",
    "    pheromone = np.ones((num_vertices, num_colors))\n",
    "    best_position = None\n",
    "    best_fitness = float('inf')\n",
    "    \n",
    "    for _ in range(max_iterations):\n",
    "        ants = initialize_ants()\n",
    "        for ant in ants:\n",
    "            update_ant(ant, pheromone, alpha, beta)\n",
    "        \n",
    "        update_pheromone(pheromone, ants, evaporation_rate, Q)\n",
    "        \n",
    "        for ant in ants:\n",
    "            ant_fitness = fitness(ant.position)\n",
    "            if ant_fitness < best_fitness:\n",
    "                best_position = np.copy(ant.position)\n",
    "                best_fitness = ant_fitness\n",
    "    \n",
    "    return best_position"
   ]
  },
  {
   "cell_type": "code",
   "execution_count": 12,
   "id": "51da9061",
   "metadata": {},
   "outputs": [
    {
     "ename": "ZeroDivisionError",
     "evalue": "float division by zero",
     "output_type": "error",
     "traceback": [
      "\u001b[1;31m---------------------------------------------------------------------------\u001b[0m",
      "\u001b[1;31mZeroDivisionError\u001b[0m                         Traceback (most recent call last)",
      "Input \u001b[1;32mIn [12]\u001b[0m, in \u001b[0;36m<cell line: 8>\u001b[1;34m()\u001b[0m\n\u001b[0;32m      5\u001b[0m Q \u001b[38;5;241m=\u001b[39m \u001b[38;5;241m1.0\u001b[39m  \u001b[38;5;66;03m# Pheromone deposit constant\u001b[39;00m\n\u001b[0;32m      7\u001b[0m \u001b[38;5;66;03m# Solve the graph coloring problem using ACO\u001b[39;00m\n\u001b[1;32m----> 8\u001b[0m best_coloring \u001b[38;5;241m=\u001b[39m \u001b[43maco\u001b[49m\u001b[43m(\u001b[49m\u001b[43mgraph\u001b[49m\u001b[43m,\u001b[49m\u001b[43m \u001b[49m\u001b[43mnum_colors\u001b[49m\u001b[43m,\u001b[49m\u001b[43m \u001b[49m\u001b[43mnum_ants\u001b[49m\u001b[43m,\u001b[49m\u001b[43m \u001b[49m\u001b[43mmax_iterations\u001b[49m\u001b[43m,\u001b[49m\u001b[43m \u001b[49m\u001b[43malpha\u001b[49m\u001b[43m,\u001b[49m\u001b[43m \u001b[49m\u001b[43mbeta\u001b[49m\u001b[43m,\u001b[49m\u001b[43m \u001b[49m\u001b[43mevaporation_rate\u001b[49m\u001b[43m,\u001b[49m\u001b[43m \u001b[49m\u001b[43mQ\u001b[49m\u001b[43m)\u001b[49m\n\u001b[0;32m     10\u001b[0m \u001b[38;5;66;03m# Print the best color assignments for each vertex\u001b[39;00m\n\u001b[0;32m     11\u001b[0m \u001b[38;5;28mprint\u001b[39m(\u001b[38;5;124m\"\u001b[39m\u001b[38;5;124mBest color assignments:\u001b[39m\u001b[38;5;124m\"\u001b[39m, best_coloring)\n",
      "Input \u001b[1;32mIn [11]\u001b[0m, in \u001b[0;36maco\u001b[1;34m(graph, num_colors, num_ants, max_iterations, alpha, beta, evaporation_rate, Q)\u001b[0m\n\u001b[0;32m     16\u001b[0m ants \u001b[38;5;241m=\u001b[39m initialize_ants()\n\u001b[0;32m     17\u001b[0m \u001b[38;5;28;01mfor\u001b[39;00m ant \u001b[38;5;129;01min\u001b[39;00m ants:\n\u001b[1;32m---> 18\u001b[0m     \u001b[43mupdate_ant\u001b[49m\u001b[43m(\u001b[49m\u001b[43mant\u001b[49m\u001b[43m,\u001b[49m\u001b[43m \u001b[49m\u001b[43mpheromone\u001b[49m\u001b[43m,\u001b[49m\u001b[43m \u001b[49m\u001b[43malpha\u001b[49m\u001b[43m,\u001b[49m\u001b[43m \u001b[49m\u001b[43mbeta\u001b[49m\u001b[43m)\u001b[49m\n\u001b[0;32m     20\u001b[0m update_pheromone(pheromone, ants, evaporation_rate, Q)\n\u001b[0;32m     22\u001b[0m \u001b[38;5;28;01mfor\u001b[39;00m ant \u001b[38;5;129;01min\u001b[39;00m ants:\n",
      "Input \u001b[1;32mIn [10]\u001b[0m, in \u001b[0;36mupdate_ant\u001b[1;34m(ant, pheromone, alpha, beta)\u001b[0m\n\u001b[0;32m     17\u001b[0m     probabilities \u001b[38;5;241m=\u001b[39m [\u001b[38;5;241m1\u001b[39m \u001b[38;5;241m/\u001b[39m num_available_colors] \u001b[38;5;241m*\u001b[39m num_available_colors  \u001b[38;5;66;03m# Assign equal probabilities to available colors\u001b[39;00m\n\u001b[0;32m     18\u001b[0m \u001b[38;5;28;01melse\u001b[39;00m:\n\u001b[1;32m---> 19\u001b[0m     probabilities \u001b[38;5;241m=\u001b[39m [p \u001b[38;5;241m/\u001b[39m total_prob \u001b[38;5;28;01mfor\u001b[39;00m p \u001b[38;5;129;01min\u001b[39;00m color_probabilities]\n\u001b[0;32m     21\u001b[0m chosen_color \u001b[38;5;241m=\u001b[39m np\u001b[38;5;241m.\u001b[39mrandom\u001b[38;5;241m.\u001b[39mchoice(\u001b[38;5;28mrange\u001b[39m(num_colors), p\u001b[38;5;241m=\u001b[39mprobabilities)\n\u001b[0;32m     22\u001b[0m ant\u001b[38;5;241m.\u001b[39mposition[i] \u001b[38;5;241m=\u001b[39m chosen_color\n",
      "Input \u001b[1;32mIn [10]\u001b[0m, in \u001b[0;36m<listcomp>\u001b[1;34m(.0)\u001b[0m\n\u001b[0;32m     17\u001b[0m     probabilities \u001b[38;5;241m=\u001b[39m [\u001b[38;5;241m1\u001b[39m \u001b[38;5;241m/\u001b[39m num_available_colors] \u001b[38;5;241m*\u001b[39m num_available_colors  \u001b[38;5;66;03m# Assign equal probabilities to available colors\u001b[39;00m\n\u001b[0;32m     18\u001b[0m \u001b[38;5;28;01melse\u001b[39;00m:\n\u001b[1;32m---> 19\u001b[0m     probabilities \u001b[38;5;241m=\u001b[39m [\u001b[43mp\u001b[49m\u001b[43m \u001b[49m\u001b[38;5;241;43m/\u001b[39;49m\u001b[43m \u001b[49m\u001b[43mtotal_prob\u001b[49m \u001b[38;5;28;01mfor\u001b[39;00m p \u001b[38;5;129;01min\u001b[39;00m color_probabilities]\n\u001b[0;32m     21\u001b[0m chosen_color \u001b[38;5;241m=\u001b[39m np\u001b[38;5;241m.\u001b[39mrandom\u001b[38;5;241m.\u001b[39mchoice(\u001b[38;5;28mrange\u001b[39m(num_colors), p\u001b[38;5;241m=\u001b[39mprobabilities)\n\u001b[0;32m     22\u001b[0m ant\u001b[38;5;241m.\u001b[39mposition[i] \u001b[38;5;241m=\u001b[39m chosen_color\n",
      "\u001b[1;31mZeroDivisionError\u001b[0m: float division by zero"
     ]
    }
   ],
   "source": [
    "# Parameters for ACO\n",
    "alpha = 1.0  # Pheromone importance\n",
    "beta = 1.0  # Heuristic importance\n",
    "evaporation_rate = 0.5  # Evaporation rate\n",
    "Q = 1.0  # Pheromone deposit constant\n",
    "\n",
    "# Solve the graph coloring problem using ACO\n",
    "best_coloring = aco(graph, num_colors, num_ants, max_iterations, alpha, beta, evaporation_rate, Q)\n",
    "\n",
    "# Print the best color assignments for each vertex\n",
    "print(\"Best color assignments:\", best_coloring)"
   ]
  },
  {
   "cell_type": "code",
   "execution_count": null,
   "id": "21b465e2",
   "metadata": {},
   "outputs": [],
   "source": []
  }
 ],
 "metadata": {
  "kernelspec": {
   "display_name": "Python 3 (ipykernel)",
   "language": "python",
   "name": "python3"
  },
  "language_info": {
   "codemirror_mode": {
    "name": "ipython",
    "version": 3
   },
   "file_extension": ".py",
   "mimetype": "text/x-python",
   "name": "python",
   "nbconvert_exporter": "python",
   "pygments_lexer": "ipython3",
   "version": "3.9.12"
  }
 },
 "nbformat": 4,
 "nbformat_minor": 5
}
