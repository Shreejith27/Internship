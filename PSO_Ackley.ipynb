{
 "cells": [
  {
   "cell_type": "code",
   "execution_count": 1,
   "metadata": {},
   "outputs": [],
   "source": [
    "#Import Libraries\n",
    "\n",
    "import numpy as np\n",
    "import matplotlib.pyplot as plt\n",
    "import math\n"
   ]
  },
  {
   "cell_type": "code",
   "execution_count": 2,
   "metadata": {},
   "outputs": [],
   "source": [
    "a=20\n",
    "b=0.2\n",
    "c=2*math.pi\n",
    "d=2\n",
    "def ackley(x):\n",
    "    z=(-a*math.exp(-b*(math.sqrt((np.sum(np.square(x)))/d)))-math.exp((np.sum(np.cos(c*x)))/d)+a+math.exp(1))\n",
    "    return z"
   ]
  },
  {
   "cell_type": "code",
   "execution_count": 3,
   "metadata": {},
   "outputs": [],
   "source": [
    "# Parameter setting\n",
    "\n",
    "d=2\n",
    "xMin,xMax=-32.768,32.768\n",
    "vMin,vMax=float(-0.1*(xMax-xMin)),float(0.1*(xMax-xMin))\n",
    "MaxIt=2000\n",
    "ps=10\n",
    "c1=2\n",
    "c2=2\n",
    "w=0.9-((0.9-0.4)/MaxIt)*np.linspace(0,MaxIt,MaxIt)\n"
   ]
  },
  {
   "cell_type": "code",
   "execution_count": 4,
   "metadata": {},
   "outputs": [],
   "source": [
    "# Setting limits\n",
    "\n",
    "def limitV(V):\n",
    "    for i in range(len(V)):\n",
    "        if V[i] > vMax:\n",
    "            V[i]=vMax\n",
    "        if V[i] < vMin:\n",
    "            V[i] = vMin\n",
    "    return V\n",
    "\n",
    "def limitX(X):\n",
    "    for i in range(len(X)):\n",
    "        if X[i] > xMax:\n",
    "            X[i]=xMax\n",
    "        if X[i] < xMin:\n",
    "            X[i] = xMin\n",
    "    return X"
   ]
  },
  {
   "cell_type": "code",
   "execution_count": 5,
   "metadata": {},
   "outputs": [
    {
     "name": "stdout",
     "output_type": "stream",
     "text": [
      "Best Fitness value= 4.440892098500626e-16\n",
      "[[-9.82863170e-17  1.86958150e-16]\n",
      " [ 1.42610963e-16 -1.05040184e-16]\n",
      " [-1.17499608e-17 -3.11329668e-16]\n",
      " [ 2.73903219e-16  3.71625675e-16]\n",
      " [ 1.78505025e-16 -3.21072737e-16]\n",
      " [ 2.26211135e-16 -7.42121417e-17]\n",
      " [-1.27792498e-16  1.06082410e-16]\n",
      " [ 1.97417225e-16 -1.79513295e-16]\n",
      " [ 1.03227809e-16  1.48528157e-16]\n",
      " [ 1.15388540e-16  3.34457253e-17]]\n"
     ]
    },
    {
     "data": {
      "image/png": "[encoded data removed]",
      "text/plain": [
       "<Figure size 432x288 with 1 Axes>"
      ]
     },
     "metadata": {
      "needs_background": "light"
     },
     "output_type": "display_data"
    }
   ],
   "source": [
    "# Algorithm\n",
    "\n",
    "def Optimization():\n",
    "    class particle():\n",
    "        def __init__(self):\n",
    "            self.position=np.random.uniform(xMin,xMax,[ps,d])\n",
    "            self.velocity=np.random.uniform(vMin,vMax,[ps,d])\n",
    "            self.cost=np.zeros(ps)\n",
    "            self.cost[:]=ackley(self.position[:])\n",
    "            self.pbest=np.copy(self.position)\n",
    "            self.pbest_cost=np.copy(self.cost)\n",
    "            self.index=np.argmin(self.pbest_cost)\n",
    "            self.gbest=self.pbest[self.index]\n",
    "            self.gbest_cost=self.pbest_cost[self.index]\n",
    "            self.BestCost=np.zeros(MaxIt)\n",
    "        def Evaluate(self):\n",
    "            for it in range(MaxIt):\n",
    "                for i in range(ps):\n",
    "                    self.velocity[i]=(w[it]*self.velocity[i]\n",
    "                                      +c1*np.random.rand(d)*(self.pbest[i]-self.position[i])\n",
    "                                      +c2*np.random.rand(d)*(self.gbest - self.position[i]))\n",
    "                    self.velocity[i]=limitV(self.velocity[i])\n",
    "                    self.position[i]=self.position[i]+self.velocity[i]\n",
    "                    self.position[i]=limitX(self.position[i])\n",
    "                    self.cost[i]=ackley(self.position[i])\n",
    "                    if self.cost[i]<self.pbest_cost[i]:\n",
    "                        self.pbest[i]=self.position[i]\n",
    "                        self.pbest_cost[i]=self.cost[i]\n",
    "                        if self.pbest_cost[i] < self.gbest_cost:\n",
    "                            self.gbest=self.pbest[i]\n",
    "                            self.gbest_cost=self.pbest_cost[i]\n",
    "                self.BestCost[it]=self.gbest_cost \n",
    "\n",
    "# Printing the value\n",
    "               \n",
    "        def execute(self):\n",
    "            \n",
    "            print('Best Fitness value=',self.gbest_cost)\n",
    "            print(self.position)\n",
    "        \n",
    "        def plot(self):\n",
    "            plt.semilogy(self.BestCost)\n",
    "           \n",
    "            plt.ylim([10e-120,10e20])\n",
    "            plt.xlim([0,12000])\n",
    "            plt.ylabel('Best Function Value')\n",
    "            plt.xlabel('Number of Iteration')\n",
    "            plt.title('Particle Swarm Optimization of Sphere function')\n",
    "    a=particle()\n",
    "    a.Evaluate()\n",
    "    a.execute()\n",
    "    a.plot()\n",
    "Optimization()"
   ]
  },
  {
   "cell_type": "code",
   "execution_count": 8,
   "metadata": {},
   "outputs": [
    {
     "data": {
      "text/plain": [
       "array([[2.27975863, 2.11399245],\n",
       "       [2.09234375, 2.02475036],\n",
       "       [2.0192235 , 2.55691602],\n",
       "       [2.68021071, 2.7525624 ]])"
      ]
     },
     "execution_count": 8,
     "metadata": {},
     "output_type": "execute_result"
    }
   ],
   "source": [
    "x=np.random.uniform(2,3,[4,2])\n",
    "x"
   ]
  },
  {
   "cell_type": "code",
   "execution_count": 9,
   "metadata": {},
   "outputs": [
    {
     "data": {
      "text/plain": [
       "array([2.27975863, 2.11399245])"
      ]
     },
     "execution_count": 9,
     "metadata": {},
     "output_type": "execute_result"
    }
   ],
   "source": [
    "x[0]"
   ]
  },
  {
   "cell_type": "code",
   "execution_count": 7,
   "metadata": {},
   "outputs": [
    {
     "data": {
      "text/plain": [
       "array([10.50114047,  9.23536837])"
      ]
     },
     "execution_count": 7,
     "metadata": {},
     "output_type": "execute_result"
    }
   ],
   "source": [
    "sum(a)"
   ]
  },
  {
   "cell_type": "code",
   "execution_count": 32,
   "metadata": {},
   "outputs": [
    {
     "name": "stdout",
     "output_type": "stream",
     "text": [
      "-0.4161468365471424\n",
      "-0.4161468365471424\n"
     ]
    }
   ],
   "source": [
    "print(np.cos(2))\n",
    "print(math.cos(2))"
   ]
  },
  {
   "cell_type": "code",
   "execution_count": 31,
   "metadata": {},
   "outputs": [],
   "source": [
    "a=20\n",
    "b=0.2\n",
    "c=2*math.pi\n",
    "d=2\n",
    "z=(-a*math.exp(-b*(math.sqrt((np.sum(np.square(x)))/d)))-math.exp((np.sum(np.cos(c*x)))/d)+a+math.exp(1))"
   ]
  },
  {
   "cell_type": "code",
   "execution_count": 13,
   "metadata": {},
   "outputs": [
    {
     "data": {
      "text/plain": [
       "2.19843847604291"
      ]
     },
     "execution_count": 13,
     "metadata": {},
     "output_type": "execute_result"
    }
   ],
   "source": [
    "math.sqrt((np.sum(np.square(x[0])))/d)"
   ]
  },
  {
   "cell_type": "code",
   "execution_count": 30,
   "metadata": {},
   "outputs": [
    {
     "data": {
      "text/plain": [
       "1.0200838336202087"
      ]
     },
     "execution_count": 30,
     "metadata": {},
     "output_type": "execute_result"
    }
   ],
   "source": [
    "(np.sum(np.cos(c*x)))/d"
   ]
  },
  {
   "cell_type": "code",
   "execution_count": 19,
   "metadata": {},
   "outputs": [
    {
     "data": {
      "text/plain": [
       "[2, 3]"
      ]
     },
     "execution_count": 19,
     "metadata": {},
     "output_type": "execute_result"
    }
   ],
   "source": [
    "1 * [2, 3]"
   ]
  },
  {
   "cell_type": "code",
   "execution_count": 26,
   "metadata": {},
   "outputs": [
    {
     "data": {
      "text/plain": [
       "0.18536073183117907"
      ]
     },
     "execution_count": 26,
     "metadata": {},
     "output_type": "execute_result"
    }
   ],
   "source": [
    "math.exp(np.sum(math.cos(np.sum(c*x))))/d"
   ]
  },
  {
   "cell_type": "code",
   "execution_count": 25,
   "metadata": {},
   "outputs": [
    {
     "data": {
      "text/plain": [
       "-0.9329415003933115"
      ]
     },
     "execution_count": 25,
     "metadata": {},
     "output_type": "execute_result"
    }
   ],
   "source": [
    "(-b*(math.sqrt((np.sum(np.square(x)))/d)))"
   ]
  },
  {
   "cell_type": "code",
   "execution_count": null,
   "metadata": {},
   "outputs": [],
   "source": []
  }
 ],
 "metadata": {
  "kernelspec": {
   "display_name": "base",
   "language": "python",
   "name": "python3"
  },
  "language_info": {
   "codemirror_mode": {
    "name": "ipython",
    "version": 3
   },
   "file_extension": ".py",
   "mimetype": "text/x-python",
   "name": "python",
   "nbconvert_exporter": "python",
   "pygments_lexer": "ipython3",
   "version": "3.9.12"
  },
  "orig_nbformat": 4
 },
 "nbformat": 4,
 "nbformat_minor": 2
}
