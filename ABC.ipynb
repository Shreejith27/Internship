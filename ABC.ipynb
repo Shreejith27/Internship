{
 "cells": [
  {
   "cell_type": "code",
   "execution_count": 2,
   "metadata": {},
   "outputs": [],
   "source": [
    "import numpy as np\n",
    "import math"
   ]
  },
  {
   "cell_type": "code",
   "execution_count": 13,
   "metadata": {},
   "outputs": [],
   "source": [
    "def sphere(x):\n",
    "    return np.sum(np.square(x))\n"
   ]
  },
  {
   "cell_type": "code",
   "execution_count": 4,
   "metadata": {},
   "outputs": [],
   "source": [
    "num_employed_bees=5\n",
    "num_scout_bees=5\n",
    "num_dimensions=2\n",
    "num_iterations=2\n",
    "xMin=-5.12\n",
    "xMax=5.12"
   ]
  },
  {
   "cell_type": "code",
   "execution_count": 4,
   "metadata": {},
   "outputs": [
    {
     "ename": "NameError",
     "evalue": "name 'num_employed_bees' is not defined",
     "output_type": "error",
     "traceback": [
      "\u001b[1;31m---------------------------------------------------------------------------\u001b[0m",
      "\u001b[1;31mNameError\u001b[0m                                 Traceback (most recent call last)",
      "\u001b[1;32mc:\\Users\\Shreejith Pillai\\Internship\\ABC.ipynb Cell 4\u001b[0m in \u001b[0;36m<cell line: 82>\u001b[1;34m()\u001b[0m\n\u001b[0;32m     <a href='vscode-notebook-cell:/c%3A/Users/Shreejith%20Pillai/Internship/ABC.ipynb#W3sZmlsZQ%3D%3D?line=78'>79</a>\u001b[0m     \u001b[39mprint\u001b[39m(population_matrix)\n\u001b[0;32m     <a href='vscode-notebook-cell:/c%3A/Users/Shreejith%20Pillai/Internship/ABC.ipynb#W3sZmlsZQ%3D%3D?line=79'>80</a>\u001b[0m     \u001b[39mprint\u001b[39m(abc())      \n\u001b[1;32m---> <a href='vscode-notebook-cell:/c%3A/Users/Shreejith%20Pillai/Internship/ABC.ipynb#W3sZmlsZQ%3D%3D?line=81'>82</a>\u001b[0m \u001b[39mprint\u001b[39m(initialize())\n",
      "\u001b[1;32mc:\\Users\\Shreejith Pillai\\Internship\\ABC.ipynb Cell 4\u001b[0m in \u001b[0;36minitialize\u001b[1;34m()\u001b[0m\n\u001b[0;32m      <a href='vscode-notebook-cell:/c%3A/Users/Shreejith%20Pillai/Internship/ABC.ipynb#W3sZmlsZQ%3D%3D?line=7'>8</a>\u001b[0m             employed_bees[i, j] \u001b[39m=\u001b[39m x[i,j]\n\u001b[0;32m      <a href='vscode-notebook-cell:/c%3A/Users/Shreejith%20Pillai/Internship/ABC.ipynb#W3sZmlsZQ%3D%3D?line=8'>9</a>\u001b[0m     \u001b[39mreturn\u001b[39;00m employed_bees\n\u001b[1;32m---> <a href='vscode-notebook-cell:/c%3A/Users/Shreejith%20Pillai/Internship/ABC.ipynb#W3sZmlsZQ%3D%3D?line=9'>10</a>\u001b[0m population_matrix\u001b[39m=\u001b[39minitialize_employed_bees()\n\u001b[0;32m     <a href='vscode-notebook-cell:/c%3A/Users/Shreejith%20Pillai/Internship/ABC.ipynb#W3sZmlsZQ%3D%3D?line=11'>12</a>\u001b[0m \u001b[39mdef\u001b[39;00m \u001b[39mevaluate_population\u001b[39m(y):\n\u001b[0;32m     <a href='vscode-notebook-cell:/c%3A/Users/Shreejith%20Pillai/Internship/ABC.ipynb#W3sZmlsZQ%3D%3D?line=12'>13</a>\u001b[0m     \u001b[39mreturn\u001b[39;00m sphere(y)    \n",
      "\u001b[1;32mc:\\Users\\Shreejith Pillai\\Internship\\ABC.ipynb Cell 4\u001b[0m in \u001b[0;36minitialize.<locals>.initialize_employed_bees\u001b[1;34m()\u001b[0m\n\u001b[0;32m      <a href='vscode-notebook-cell:/c%3A/Users/Shreejith%20Pillai/Internship/ABC.ipynb#W3sZmlsZQ%3D%3D?line=1'>2</a>\u001b[0m \u001b[39mdef\u001b[39;00m \u001b[39minitialize_employed_bees\u001b[39m():\n\u001b[1;32m----> <a href='vscode-notebook-cell:/c%3A/Users/Shreejith%20Pillai/Internship/ABC.ipynb#W3sZmlsZQ%3D%3D?line=2'>3</a>\u001b[0m     employed_bees \u001b[39m=\u001b[39m np\u001b[39m.\u001b[39mzeros((num_employed_bees, num_dimensions))\n\u001b[0;32m      <a href='vscode-notebook-cell:/c%3A/Users/Shreejith%20Pillai/Internship/ABC.ipynb#W3sZmlsZQ%3D%3D?line=3'>4</a>\u001b[0m     \u001b[39m#np.random.seed(seed=0)\u001b[39;00m\n\u001b[0;32m      <a href='vscode-notebook-cell:/c%3A/Users/Shreejith%20Pillai/Internship/ABC.ipynb#W3sZmlsZQ%3D%3D?line=4'>5</a>\u001b[0m     x\u001b[39m=\u001b[39mnp\u001b[39m.\u001b[39mrandom\u001b[39m.\u001b[39muniform(xMin,xMax,[num_employed_bees,num_dimensions])\n",
      "\u001b[1;31mNameError\u001b[0m: name 'num_employed_bees' is not defined"
     ]
    }
   ],
   "source": [
    "def initialize():    \n",
    "    def initialize_employed_bees():\n",
    "        employed_bees = np.zeros((num_employed_bees, num_dimensions))\n",
    "        #np.random.seed(seed=0)\n",
    "        x=np.random.uniform(xMin,xMax,[num_employed_bees,num_dimensions])\n",
    "        for i in range(num_employed_bees):\n",
    "            for j in range(num_dimensions):\n",
    "                employed_bees[i, j] = x[i,j]\n",
    "        return employed_bees\n",
    "    population_matrix=initialize_employed_bees()\n",
    "\n",
    "    def evaluate_population(y):\n",
    "        return sphere(y)    \n",
    "        \n",
    "    \n",
    "    \n",
    "   # def min_fitness():\n",
    "    #    min_fitness=np.zeros(num_employed_bees)\n",
    "     #   for i in range (num_employed_bees):\n",
    "      #      min_fitness[i]=1/(1+fitness_matrix[i])\n",
    "       # return  min_fitness  \n",
    "    \n",
    "    # find best food source   \n",
    "    #def select_best_food_source():\n",
    "        #index=np.argmin(fitness_matrix)\n",
    "        #return index\n",
    "    #best_index=select_best_food_source()\n",
    "        \n",
    "    # select partner food source\n",
    "\n",
    "    #partner_index=np.random.randint(len(population_matrix))\n",
    "     #      partner_index=np.random.randint(len(population_matrix))\n",
    "      #  return population_matrix[partner_index]\n",
    "        \n",
    "        \n",
    "    #replace abandoned food sources with new random solutions\n",
    "    #def scout_bees():\n",
    "        #for i in range (num_scout_bees):\n",
    "            #for j in range (num_dimensions):\n",
    "                #new_population_matrix=population_matrix\n",
    "                #new_population_matrix[i,j]=np.random.uniform(xMin,xMax,[num_scout_bees,num_dimensions])\n",
    "    \n",
    "    def abc():\n",
    "        \n",
    "        new_solution=np.copy(population_matrix)\n",
    "        for i in range (num_employed_bees):\n",
    "            k=np.random.choice([idx for idx in range(num_employed_bees) if idx != i])\n",
    "            j=np.random.randint(num_dimensions)\n",
    "            new_solution[i,j]=population_matrix[i,j] + np.random.uniform(-1,1) * (population_matrix[i,j] - population_matrix[k,j])\n",
    "            if new_solution[i,j] < xMin:\n",
    "               new_solution[i,j] = xMin\n",
    "            elif new_solution[i,j] > xMax:\n",
    "                new_solution[i,j] = xMax\n",
    "        best_solution=new_solution\n",
    "        new_fitness_matrix=evaluate_population(best_solution)\n",
    "            \n",
    "        return new_solution,new_fitness_matrix,new_fitness_matrix\n",
    "        #print(emp_bee_1)\n",
    "        #print(emp_bee_2)\n",
    "        #print(emp_partner_1)\n",
    "        #print(emp_partner_2)\n",
    "        #print(emp_partner_1)\n",
    "        #print(emp_partner_2)    \n",
    "                \n",
    "            \n",
    "                \n",
    "                #return emp_bee_1,emp_bee_2,emp_partner_1[i,j]\n",
    "            \n",
    "            #emp_partner_1[i,j]=population_matrix[k,j]\n",
    "            #while emp_partner_1 != population_matrix:\n",
    "                #emp_partner_1[i,j]=population_matrix[k,j]\n",
    "                \n",
    "            \n",
    "            #print(emp_bee_1[i,j])\n",
    "            #print(emp_partner_1[i])\n",
    "        #print(population_matrix[0]) \n",
    "    #print(fitness_matrix,fitness_matrix[0])\n",
    "    #print(min_fitness())   \n",
    "    print(population_matrix)\n",
    "    print(abc())      \n",
    "\n",
    "print(initialize())\n",
    "\n",
    " "
   ]
  },
  {
   "cell_type": "code",
   "execution_count": 24,
   "metadata": {},
   "outputs": [
    {
     "data": {
      "text/plain": [
       "(array([[0.23904171, 0.29836023],\n",
       "        [0.84093223, 0.73586715],\n",
       "        [0.19221389, 0.79490054]]),\n",
       " array([0.23904171, 0.29836023]))"
      ]
     },
     "execution_count": 24,
     "metadata": {},
     "output_type": "execute_result"
    }
   ],
   "source": [
    "a=np.random.rand(3,2)\n",
    "pop_mat=a[0,:]\n",
    "best_solution=sphere(a)\n",
    "\n",
    "a,pop_mat   \n"
   ]
  },
  {
   "cell_type": "code",
   "execution_count": 97,
   "metadata": {},
   "outputs": [
    {
     "ename": "NameError",
     "evalue": "name 'population_matrix' is not defined",
     "output_type": "error",
     "traceback": [
      "\u001b[1;31m---------------------------------------------------------------------------\u001b[0m",
      "\u001b[1;31mNameError\u001b[0m                                 Traceback (most recent call last)",
      "\u001b[1;32mc:\\Users\\Shreejith Pillai\\Internship\\ABC.ipynb Cell 6\u001b[0m in \u001b[0;36m<cell line: 8>\u001b[1;34m()\u001b[0m\n\u001b[0;32m      <a href='vscode-notebook-cell:/c%3A/Users/Shreejith%20Pillai/Internship/ABC.ipynb#W5sZmlsZQ%3D%3D?line=5'>6</a>\u001b[0m         fitness[i]\u001b[39m=\u001b[39msphere(population_matrix[i])\n\u001b[0;32m      <a href='vscode-notebook-cell:/c%3A/Users/Shreejith%20Pillai/Internship/ABC.ipynb#W5sZmlsZQ%3D%3D?line=6'>7</a>\u001b[0m     \u001b[39mreturn\u001b[39;00m fitness\n\u001b[1;32m----> <a href='vscode-notebook-cell:/c%3A/Users/Shreejith%20Pillai/Internship/ABC.ipynb#W5sZmlsZQ%3D%3D?line=7'>8</a>\u001b[0m fitness_matrix\u001b[39m=\u001b[39mevaluate_population()\n\u001b[0;32m      <a href='vscode-notebook-cell:/c%3A/Users/Shreejith%20Pillai/Internship/ABC.ipynb#W5sZmlsZQ%3D%3D?line=8'>9</a>\u001b[0m \u001b[39mprint\u001b[39m(fitness_matrix)\n",
      "\u001b[1;32mc:\\Users\\Shreejith Pillai\\Internship\\ABC.ipynb Cell 6\u001b[0m in \u001b[0;36mevaluate_population\u001b[1;34m()\u001b[0m\n\u001b[0;32m      <a href='vscode-notebook-cell:/c%3A/Users/Shreejith%20Pillai/Internship/ABC.ipynb#W5sZmlsZQ%3D%3D?line=3'>4</a>\u001b[0m fitness\u001b[39m=\u001b[39mnp\u001b[39m.\u001b[39mzeros(num_employed_bees)\n\u001b[0;32m      <a href='vscode-notebook-cell:/c%3A/Users/Shreejith%20Pillai/Internship/ABC.ipynb#W5sZmlsZQ%3D%3D?line=4'>5</a>\u001b[0m \u001b[39mfor\u001b[39;00m i \u001b[39min\u001b[39;00m \u001b[39mrange\u001b[39m (num_employed_bees):\n\u001b[1;32m----> <a href='vscode-notebook-cell:/c%3A/Users/Shreejith%20Pillai/Internship/ABC.ipynb#W5sZmlsZQ%3D%3D?line=5'>6</a>\u001b[0m     fitness[i]\u001b[39m=\u001b[39msphere(population_matrix[i])\n\u001b[0;32m      <a href='vscode-notebook-cell:/c%3A/Users/Shreejith%20Pillai/Internship/ABC.ipynb#W5sZmlsZQ%3D%3D?line=6'>7</a>\u001b[0m \u001b[39mreturn\u001b[39;00m fitness\n",
      "\u001b[1;31mNameError\u001b[0m: name 'population_matrix' is not defined"
     ]
    }
   ],
   "source": [
    "# evaluate population\n",
    "\n",
    "def evaluate_population():\n",
    "    fitness=np.zeros(num_employed_bees)\n",
    "    for i in range (num_employed_bees):\n",
    "        fitness[i]=sphere(population_matrix[i])\n",
    "    return fitness\n",
    "fitness_matrix=evaluate_population()\n",
    "print(fitness_matrix)\n",
    "       "
   ]
  },
  {
   "cell_type": "code",
   "execution_count": 161,
   "metadata": {},
   "outputs": [
    {
     "name": "stdout",
     "output_type": "stream",
     "text": [
      "[1.4293895  2.34870801] 7.559583663436236\n"
     ]
    }
   ],
   "source": [
    "# selecting best food source\n",
    "\n",
    "def select_best_food_source():\n",
    "    index=np.argmin(fitness_matrix)\n",
    "    return index\n",
    "\n",
    "best_index=select_best_food_source()\n",
    "\n",
    "print(population_matrix[best_index],fitness_matrix[best_index])\n",
    "\n",
    "\n"
   ]
  },
  {
   "cell_type": "code",
   "execution_count": 170,
   "metadata": {},
   "outputs": [
    {
     "name": "stdout",
     "output_type": "stream",
     "text": [
      "[-4.91988636 -1.62668085]\n"
     ]
    }
   ],
   "source": [
    "# select partner food source\n",
    "\n",
    "def select_partner_food_source():\n",
    "    partner_index=np.random.randint(len(population_matrix))\n",
    "    while best_index == partner_index:\n",
    "        partner_index=np.random.randint(len(population_matrix))\n",
    "    return population_matrix[partner_index]\n",
    "print(select_partner_food_source())"
   ]
  },
  {
   "cell_type": "code",
   "execution_count": null,
   "metadata": {},
   "outputs": [],
   "source": [
    "def scout_bees():\n",
    "    for i in range (num_scout_bees):\n",
    "        for j in range (num_dimensions):\n",
    "            population_matrix[]"
   ]
  }
 ],
 "metadata": {
  "kernelspec": {
   "display_name": "base",
   "language": "python",
   "name": "python3"
  },
  "language_info": {
   "codemirror_mode": {
    "name": "ipython",
    "version": 3
   },
   "file_extension": ".py",
   "mimetype": "text/x-python",
   "name": "python",
   "nbconvert_exporter": "python",
   "pygments_lexer": "ipython3",
   "version": "3.9.12"
  },
  "orig_nbformat": 4,
  "vscode": {
   "interpreter": {
    "hash": "6cefdf331f7c5cdaec52c48062c4451f1adc1214d6ddb7bda482f22c62ffb078"
   }
  }
 },
 "nbformat": 4,
 "nbformat_minor": 2
}
