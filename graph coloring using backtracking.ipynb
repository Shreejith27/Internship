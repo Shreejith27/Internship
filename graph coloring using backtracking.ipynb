{
 "cells": [
  {
   "cell_type": "code",
   "execution_count": 16,
   "id": "6809371b",
   "metadata": {},
   "outputs": [
    {
     "name": "stdout",
     "output_type": "stream",
     "text": [
      "Graph coloring solution:\n",
      "Vertex 1 --> Color 1\n",
      "Vertex 2 --> Color 2\n",
      "Vertex 3 --> Color 1\n",
      "Vertex 4 --> Color 2\n",
      "Vertex 5 --> Color 1\n",
      "Vertex 6 --> Color 3\n",
      "Vertex 7 --> Color 2\n"
     ]
    },
    {
     "data": {
      "text/plain": [
       "True"
      ]
     },
     "execution_count": 16,
     "metadata": {},
     "output_type": "execute_result"
    }
   ],
   "source": [
    "class Graph:\n",
    "    def __init__(self, vertices):\n",
    "        self.V = vertices\n",
    "        self.graph = [[0 for _ in range(vertices)] for _ in range(vertices)]\n",
    "\n",
    "    def is_safe(self, v, color, c):\n",
    "        for i in range(self.V):\n",
    "            if self.graph[v][i] == 1 and color[i] == c:\n",
    "                return False\n",
    "        return True\n",
    "\n",
    "    def graph_coloring_util(self, m, color, v):\n",
    "        if v == self.V:\n",
    "            return True\n",
    "\n",
    "        for c in range(1, m + 1):\n",
    "            if self.is_safe(v, color, c):\n",
    "                color[v] = c\n",
    "                if self.graph_coloring_util(m, color, v + 1):\n",
    "                    return True\n",
    "                color[v] = 0\n",
    "\n",
    "        return False\n",
    "\n",
    "    def graph_coloring(self, m):\n",
    "        color = [0] * self.V\n",
    "        if not self.graph_coloring_util(m, color, 0):\n",
    "            print(\"No solution exists.\")\n",
    "            return False\n",
    "\n",
    "        print(\"Graph coloring solution:\")\n",
    "        for v in range(self.V):\n",
    "            print(f\"Vertex {v + 1} --> Color {color[v]}\")\n",
    "\n",
    "        return True\n",
    "\n",
    "\n",
    "# Example usage\n",
    "g = Graph(7)\n",
    "g.graph =  [\n",
    "    [0, 1, 0, 0, 0, 0, 1],\n",
    "    [1, 0, 1, 0, 1, 0, 0],\n",
    "    [0, 1, 0, 1, 0, 0, 1],\n",
    "    [0, 0, 1, 0 ,1, 1, 0],\n",
    "    [0, 1, 0, 1, 0, 1, 0],\n",
    "    [0, 0, 0, 1, 1, 0, 1],\n",
    "    [1, 0, 1, 0, 0, 1, 0]\n",
    "]\n",
    "num_colors = 10 # Number of colors available\n",
    "g.graph_coloring(num_colors)"
   ]
  },
  {
   "cell_type": "code",
   "execution_count": null,
   "id": "d415d680",
   "metadata": {},
   "outputs": [],
   "source": []
  },
  {
   "cell_type": "code",
   "execution_count": null,
   "id": "2006849f",
   "metadata": {},
   "outputs": [],
   "source": []
  }
 ],
 "metadata": {
  "kernelspec": {
   "display_name": "Python 3 (ipykernel)",
   "language": "python",
   "name": "python3"
  },
  "language_info": {
   "codemirror_mode": {
    "name": "ipython",
    "version": 3
   },
   "file_extension": ".py",
   "mimetype": "text/x-python",
   "name": "python",
   "nbconvert_exporter": "python",
   "pygments_lexer": "ipython3",
   "version": "3.9.12"
  }
 },
 "nbformat": 4,
 "nbformat_minor": 5
}
