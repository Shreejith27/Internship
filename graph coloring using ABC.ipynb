{
 "cells": [
  {
   "cell_type": "code",
   "execution_count": 2,
   "id": "f1d5a16a",
   "metadata": {},
   "outputs": [],
   "source": [
    "import numpy as np"
   ]
  },
  {
   "cell_type": "code",
   "execution_count": 24,
   "id": "800f8b4d",
   "metadata": {},
   "outputs": [
    {
     "name": "stdout",
     "output_type": "stream",
     "text": [
      "[1 0 1 0 1 1 0]\n"
     ]
    }
   ],
   "source": [
    "import numpy as np\n",
    "\n",
    "def fitness_function(chromosome, graph):\n",
    "    # Calculate the fitness of the chromosome\n",
    "    fitness = 0\n",
    "    for i in range(len(graph)):\n",
    "        for j in range(i + 1, len(graph)):\n",
    "            if graph[i][j] == 1 and chromosome[i] == chromosome[j]:\n",
    "                fitness += 1\n",
    "    return fitness\n",
    "\n",
    "def abc_algorithm(graph, n_employed_bees, n_onlooker_bees, n_iterations):\n",
    "    # Initialize the population\n",
    "    population = np.random.randint(0, 2, size=(n_employed_bees + n_onlooker_bees, len(graph)))\n",
    "    best_solution = None\n",
    "    best_fitness = float('inf')\n",
    "    for iteration in range(n_iterations):\n",
    "        # Employed bees phase\n",
    "        for i in range(n_employed_bees):\n",
    "            # Select a random neighbor\n",
    "            j = np.random.choice([x for x in range(len(graph)) if x != i])\n",
    "            # Generate a new solution\n",
    "            new_solution = np.copy(population[i])\n",
    "            new_solution[j] = 1 - new_solution[j]\n",
    "            # Evaluate the new solution\n",
    "            new_fitness = fitness_function(new_solution, graph)\n",
    "            # Update the population if the new solution is better\n",
    "            if new_fitness < fitness_function(population[i], graph):\n",
    "                population[i] = new_solution\n",
    "        # Onlooker bees phase\n",
    "        onlooker_probabilities = [fitness_function(population[i], graph) / sum([fitness_function(population[j], graph) for j in range(n_employed_bees + n_onlooker_bees)]) for i in range(n_employed_bees + n_onlooker_bees)]\n",
    "        for i in range(n_onlooker_bees):\n",
    "            # Select a random bee based on probabilities\n",
    "            j = np.random.choice([x for x in range(n_employed_bees + n_onlooker_bees)], p=onlooker_probabilities)\n",
    "            # Select a random neighbor\n",
    "            k = np.random.choice([x for x in range(len(graph)) if x != j])\n",
    "            # Generate a new solution\n",
    "            new_solution = np.copy(population[j])\n",
    "            new_solution[k] = 1 - new_solution[k]\n",
    "            # Evaluate the new solution\n",
    "            new_fitness = fitness_function(new_solution, graph)\n",
    "            # Update the population if the new solution is better\n",
    "            if new_fitness < fitness_function(population[j], graph):\n",
    "                population[j] = new_solution\n",
    "        # Memorize the best solution so far\n",
    "        for i in range(n_employed_bees + n_onlooker_bees):\n",
    "            if fitness_function(population[i], graph) < best_fitness:\n",
    "                best_solution = population[i]\n",
    "                best_fitness = fitness_function(population[i], graph)\n",
    "    return best_solution\n",
    "\n",
    "# Example usage:\n",
    "graph = [[0, 1, 0, 0, 0, 0, 0],\n",
    "         [1, 0, 1, 0, 0, 0, 0],\n",
    "         [0, 1, 0, 1, 0, 0, 1],\n",
    "         [0, 0, 1, 0, 1, 0, 0],\n",
    "         [0, 0, 0, 1, 0, 1, 0],\n",
    "         [0, 0, 0, 0, 1, 0, 1],\n",
    "         [1, 0, 1, 0, 0, 1, 0]]\n",
    "n_colors = 8\n",
    "n_iterations = 40\n",
    "best_solution = abc_algorithm(graph, len(graph), len(graph), n_iterations)\n",
    "print(best_solution)\n"
   ]
  },
  {
   "cell_type": "code",
   "execution_count": null,
   "id": "3f2ccc37",
   "metadata": {},
   "outputs": [],
   "source": []
  },
  {
   "cell_type": "code",
   "execution_count": null,
   "id": "3899bc7d",
   "metadata": {},
   "outputs": [],
   "source": []
  }
 ],
 "metadata": {
  "kernelspec": {
   "display_name": "Python 3 (ipykernel)",
   "language": "python",
   "name": "python3"
  },
  "language_info": {
   "codemirror_mode": {
    "name": "ipython",
    "version": 3
   },
   "file_extension": ".py",
   "mimetype": "text/x-python",
   "name": "python",
   "nbconvert_exporter": "python",
   "pygments_lexer": "ipython3",
   "version": "3.9.12"
  }
 },
 "nbformat": 4,
 "nbformat_minor": 5
}
