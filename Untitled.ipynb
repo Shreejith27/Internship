{
 "cells": [
  {
   "cell_type": "code",
   "execution_count": 7,
   "id": "8773f586",
   "metadata": {},
   "outputs": [],
   "source": [
    "import numpy as np\n"
   ]
  },
  {
   "cell_type": "code",
   "execution_count": 10,
   "id": "d686756c",
   "metadata": {},
   "outputs": [
    {
     "data": {
      "text/plain": [
       "matrix([[ 2.2 ,  3.  ],\n",
       "        [-2.3 , -2.9 ],\n",
       "        [-0.63,  1.69],\n",
       "        [-3.1 ,  0.7 ],\n",
       "        [-4.5 ,  4.7 ]])"
      ]
     },
     "execution_count": 10,
     "metadata": {},
     "output_type": "execute_result"
    }
   ],
   "source": [
    "a=np.array(np.mat('2.2 3.0 ; -2.3 -2.9 ; -0.63 1.69 ; -3.1 0.7 ; -4.5 4.7'),subok=True)\n",
    "a"
   ]
  },
  {
   "cell_type": "code",
   "execution_count": 7,
   "id": "db40be82",
   "metadata": {},
   "outputs": [],
   "source": [
    "import numpy as np\n",
    "import math\n",
    "def mini(x):\n",
    "    a=20\n",
    "    b=float(0.2)\n",
    "    c=float(2*math.pi)\n",
    "    d=2\n",
    "    z=-float(a*math.exp(-b*(math.sqrt((np.sum(np.square(x)))/d)))-math.exp((np.sum(math.cos(c*x)))/d)+a+math.exp(1))\n",
    "    return z\n"
   ]
  },
  {
   "cell_type": "code",
   "execution_count": 8,
   "id": "18e089e0",
   "metadata": {},
   "outputs": [],
   "source": [
    "m=0\n",
    "n=0"
   ]
  },
  {
   "cell_type": "code",
   "execution_count": 11,
   "id": "26c8b9b4",
   "metadata": {},
   "outputs": [
    {
     "name": "stdout",
     "output_type": "stream",
     "text": [
      "2.2\n",
      "-2.3\n",
      "-0.63\n",
      "-3.1\n",
      "-4.5\n"
     ]
    }
   ],
   "source": [
    "result=np.array([])\n",
    "for m in range(0,5,1):\n",
    "    for n in range(0,2,1):\n",
    "        if n==0:\n",
    "            x=(a[m,n])\n",
    "            print(x)\n",
    "            result=np.append(result,mini(x))"
   ]
  },
  {
   "cell_type": "code",
   "execution_count": 41,
   "id": "e3634359",
   "metadata": {},
   "outputs": [
    {
     "name": "stdout",
     "output_type": "stream",
     "text": [
      "[  340.        6718.5        169.867661  7955.62     24210.5     ]\n"
     ]
    }
   ],
   "source": [
    "print(result)"
   ]
  },
  {
   "cell_type": "code",
   "execution_count": 1,
   "id": "ec14c137",
   "metadata": {},
   "outputs": [],
   "source": [
    "def update_position(particle, velocity):\n",
    "  # Move particles by adding velocity\n",
    "  new_particle = particle + velocity\n",
    "  return new_particle"
   ]
  },
  {
   "cell_type": "code",
   "execution_count": 18,
   "id": "35b4229a",
   "metadata": {},
   "outputs": [
    {
     "name": "stdout",
     "output_type": "stream",
     "text": [
      "4.840000000000001\n"
     ]
    }
   ],
   "source": [
    "import numpy as np\n",
    "import math\n",
    "def ackley(x):\n",
    "    a=20\n",
    "    b=float(0.2)\n",
    "    c=float(2*math.pi)\n",
    "    d=2\n",
    "    z=np.sum(np.square(x))\n",
    "    return z\n",
    "print(ackley(2.2))\n"
   ]
  },
  {
   "cell_type": "code",
   "execution_count": null,
   "id": "877177a8",
   "metadata": {},
   "outputs": [],
   "source": [
    "\n"
   ]
  }
 ],
 "metadata": {
  "kernelspec": {
   "display_name": "Python 3 (ipykernel)",
   "language": "python",
   "name": "python3"
  },
  "language_info": {
   "codemirror_mode": {
    "name": "ipython",
    "version": 3
   },
   "file_extension": ".py",
   "mimetype": "text/x-python",
   "name": "python",
   "nbconvert_exporter": "python",
   "pygments_lexer": "ipython3",
   "version": "3.9.12"
  },
  "vscode": {
   "interpreter": {
    "hash": "6cefdf331f7c5cdaec52c48062c4451f1adc1214d6ddb7bda482f22c62ffb078"
   }
  }
 },
 "nbformat": 4,
 "nbformat_minor": 5
}
