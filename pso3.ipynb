{
 "cells": [
  {
   "cell_type": "code",
   "execution_count": 1,
   "metadata": {},
   "outputs": [],
   "source": [
    "import random\n",
    "import numpy as np"
   ]
  },
  {
   "cell_type": "code",
   "execution_count": 2,
   "metadata": {},
   "outputs": [],
   "source": [
    "def fitness_function(x1,x2):\n",
    "  f1=x1+2*-x2+3\n",
    "  f2=2*x1+x2-8\n",
    "  z = f1**2+f2**2\n",
    "  return z"
   ]
  },
  {
   "cell_type": "code",
   "execution_count": 3,
   "metadata": {},
   "outputs": [],
   "source": []
  },
  {
   "cell_type": "code",
   "execution_count": 4,
   "metadata": {},
   "outputs": [],
   "source": [
    "def update_position(particle, velocity):\n",
    "  # Move particles by adding velocity\n",
    "  new_particle = particle + velocity\n",
    "  return new_particle"
   ]
  },
  {
   "cell_type": "code",
   "execution_count": 11,
   "metadata": {},
   "outputs": [],
   "source": [
    "def pso_2d(population, dimension, position_min, position_max, generation , fitness_criterion):\n",
    "  # Initialisation\n",
    "  # Population\n",
    "  particles = [[random.uniform(position_min, position_max) for j in range(dimension)] for i in range(population)]\n",
    "  # Particle's best position\n",
    "  pbest_position = particles\n",
    "  # Fitness\n",
    "  pbest_fitness = [fitness_function(p[0],p[1]) for p in particles]\n",
    "  # Index of the best particle\n",
    "  gbest_index = np.argmin(pbest_fitness)\n",
    "  # Global best particle position\n",
    "  gbest_position = pbest_position[gbest_index]\n",
    "  # Velocity (starting from 0 speed)\n",
    "  velocity = [[0.0 for j in range(dimension)] for i in range(population)]\n",
    "  for t in range(generation):\n",
    "    # Stop if the average fitness value reached a predefined success criterion\n",
    "    if np.average(pbest_fitness) <= fitness_criterion:\n",
    "      break\n",
    "    else:\n",
    "      for n in range(population):\n",
    "        # Update the velocity of each particle\n",
    "        velocity[n] = update_velocity(particles[n], velocity[n], pbest_position[n], gbest_position)\n",
    "        # Move the particles to new position\n",
    "        particles[n] = update_position(particles[n], velocity[n])\n",
    "    # Calculate the fitness value\n",
    "    pbest_fitness = [fitness_function(p[0],p[1]) for p in particles]\n",
    "    # Find the index of the best particle\n",
    "    gbest_index = np.argmin(pbest_fitness)\n",
    "    # Update the position of the best particle\n",
    "    gbest_position = pbest_position[gbest_index]\n",
    "  \n",
    "  # Print the results\n",
    "  print('Global Best Position: ', gbest_position)\n",
    "  print('Best Fitness Value: ', min(pbest_fitness))\n",
    "  print('Average Particle Best Fitness Value: ', np.average(pbest_fitness))\n",
    "  print('Number of Generation: ', t)\n",
    "\n",
    "\n",
    "  "
   ]
  },
  {
   "cell_type": "code",
   "execution_count": 9,
   "metadata": {},
   "outputs": [
    {
     "ename": "NameError",
     "evalue": "name 'generation' is not defined",
     "output_type": "error",
     "traceback": [
      "\u001b[1;31m---------------------------------------------------------------------------\u001b[0m",
      "\u001b[1;31mNameError\u001b[0m                                 Traceback (most recent call last)",
      "\u001b[1;32mc:\\Users\\Shreejith Pillai\\Internship\\pso3.ipynb Cell 6\u001b[0m in \u001b[0;36m<cell line: 2>\u001b[1;34m()\u001b[0m\n\u001b[0;32m      <a href='vscode-notebook-cell:/c%3A/Users/Shreejith%20Pillai/Internship/pso3.ipynb#W5sZmlsZQ%3D%3D?line=0'>1</a>\u001b[0m \u001b[39m# Loop for the number of generation\u001b[39;00m\n\u001b[1;32m----> <a href='vscode-notebook-cell:/c%3A/Users/Shreejith%20Pillai/Internship/pso3.ipynb#W5sZmlsZQ%3D%3D?line=1'>2</a>\u001b[0m \u001b[39mfor\u001b[39;00m t \u001b[39min\u001b[39;00m \u001b[39mrange\u001b[39m(generation):\n\u001b[0;32m      <a href='vscode-notebook-cell:/c%3A/Users/Shreejith%20Pillai/Internship/pso3.ipynb#W5sZmlsZQ%3D%3D?line=2'>3</a>\u001b[0m     \u001b[39m# Stop if the average fitness value reached a predefined success criterion\u001b[39;00m\n\u001b[0;32m      <a href='vscode-notebook-cell:/c%3A/Users/Shreejith%20Pillai/Internship/pso3.ipynb#W5sZmlsZQ%3D%3D?line=3'>4</a>\u001b[0m     \u001b[39mif\u001b[39;00m np\u001b[39m.\u001b[39maverage(pbest_fitness) \u001b[39m<\u001b[39m\u001b[39m=\u001b[39m fitness_criterion:\n\u001b[0;32m      <a href='vscode-notebook-cell:/c%3A/Users/Shreejith%20Pillai/Internship/pso3.ipynb#W5sZmlsZQ%3D%3D?line=4'>5</a>\u001b[0m       \u001b[39mbreak\u001b[39;00m\n",
      "\u001b[1;31mNameError\u001b[0m: name 'generation' is not defined"
     ]
    }
   ],
   "source": [
    "\n"
   ]
  },
  {
   "cell_type": "code",
   "execution_count": null,
   "metadata": {},
   "outputs": [],
   "source": []
  }
 ],
 "metadata": {
  "kernelspec": {
   "display_name": "base",
   "language": "python",
   "name": "python3"
  },
  "language_info": {
   "codemirror_mode": {
    "name": "ipython",
    "version": 3
   },
   "file_extension": ".py",
   "mimetype": "text/x-python",
   "name": "python",
   "nbconvert_exporter": "python",
   "pygments_lexer": "ipython3",
   "version": "3.9.12"
  },
  "orig_nbformat": 4,
  "vscode": {
   "interpreter": {
    "hash": "6cefdf331f7c5cdaec52c48062c4451f1adc1214d6ddb7bda482f22c62ffb078"
   }
  }
 },
 "nbformat": 4,
 "nbformat_minor": 2
}
