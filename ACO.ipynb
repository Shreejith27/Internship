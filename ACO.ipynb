{
 "cells": [
  {
   "cell_type": "code",
   "execution_count": 2,
   "metadata": {},
   "outputs": [],
   "source": [
    "import numpy as np\n",
    "import random"
   ]
  },
  {
   "cell_type": "code",
   "execution_count": 3,
   "metadata": {},
   "outputs": [],
   "source": [
    "class AntColony:\n",
    "    def __init__(self, distance_matrix, num_ants, num_iterations, decay, alpha, beta):\n",
    "        self.distance_matrix = distance_matrix\n",
    "        self.num_ants = num_ants\n",
    "        self.num_iterations = num_iterations\n",
    "        self.decay = decay\n",
    "        self.alpha = alpha\n",
    "        self.beta = beta\n",
    "        self.num_cities = len(distance_matrix)\n",
    "        self.pheromone_matrix = np.ones((self.num_cities, self.num_cities))\n",
    "        self.best_solution = None\n",
    "        self.best_distance = np.inf\n",
    "    \n",
    "    def run(self):\n",
    "        for i in range(self.num_iterations):\n",
    "            solutions = []\n",
    "            for j in range(self.num_ants):\n",
    "                solution = self.build_solution()\n",
    "                solutions.append(solution)\n",
    "                distance = self.evaluate_solution(solution)\n",
    "                if distance < self.best_distance:\n",
    "                    self.best_solution = solution\n",
    "                    self.best_distance = distance\n",
    "            self.update_pheromone_matrix(solutions)\n",
    "            \n",
    "    def build_solution(self):\n",
    "        unvisited_cities = set(range(self.num_cities))\n",
    "        current_city = random.choice(list(unvisited_cities))\n",
    "        unvisited_cities.remove(current_city)\n",
    "        solution = [current_city]\n",
    "        while unvisited_cities:\n",
    "            probabilities = self.calculate_probabilities(current_city, unvisited_cities)\n",
    "            next_city = self.select_next_city(probabilities, list(unvisited_cities))\n",
    "            solution.append(next_city)\n",
    "            unvisited_cities.remove(next_city)\n",
    "            current_city = next_city\n",
    "        return solution\n",
    "    \n",
    "    def calculate_probabilities(self, current_city, unvisited_cities):\n",
    "        pheromone_values = self.pheromone_matrix[current_city][list(unvisited_cities)]\n",
    "        distances = self.distance_matrix[current_city][list(unvisited_cities)]\n",
    "        attractiveness_values = 1 / distances ** self.beta\n",
    "        probabilities = pheromone_values ** self.alpha * attractiveness_values\n",
    "        probabilities /= probabilities.sum() \n",
    "        return probabilities\n",
    "    \n",
    "    def select_next_city(self, probabilities, unvisited_cities):\n",
    "        index = np.random.choice(range(len(unvisited_cities)), p=probabilities)\n",
    "        return unvisited_cities[index]\n",
    "    \n",
    "    def evaluate_solution(self, solution):\n",
    "        distance = 0\n",
    "        for i in range(self.num_cities - 1):\n",
    "            city1 = solution[i]\n",
    "            city2 = solution[i + 1]\n",
    "            distance += self.distance_matrix[city1][city2]\n",
    "        distance += self.distance_matrix[solution[-1]][solution[0]]\n",
    "        return distance\n",
    "    \n",
    "    def update_pheromone_matrix(self, solutions):\n",
    "        self.pheromone_matrix *= self.decay\n",
    "        for solution in solutions:\n",
    "            distance = self.evaluate_solution(solution)\n",
    "            for i in range(self.num_cities - 1):\n",
    "                city1 = solution[i]\n",
    "                city2 = solution[i + 1]\n",
    "                self.pheromone_matrix[city1][city2] += 1 / distance\n",
    "            self.pheromone_matrix[solution[-1]][solution[0]] += 1 / distance\n",
    "\n"
   ]
  },
  {
   "cell_type": "code",
   "execution_count": 6,
   "metadata": {},
   "outputs": [
    {
     "name": "stdout",
     "output_type": "stream",
     "text": [
      "Best solution: [1, 3, 0, 4, 2]\n",
      "Best distance: 16\n"
     ]
    }
   ],
   "source": [
    "# Define the distance matrix\n",
    "distance_matrix = np.array([\n",
    "    [0, 3, 6, 2, 3],\n",
    "    [3, 0, 5, 2, 3],\n",
    "    [6, 5, 0, 6, 4],\n",
    "    [2, 2, 6, 0, 6],\n",
    "    [3, 3, 4, 6, 0]\n",
    "])\n",
    "\n",
    "# Set the ACO parameters\n",
    "num_ants = 50\n",
    "num_iterations = 2\n",
    "decay = 0.5\n",
    "alpha = 1\n",
    "beta = 2\n",
    "\n",
    "# Create an instance of the AntColony class\n",
    "aco = AntColony(distance_matrix, num_ants, num_iterations, decay, alpha, beta)\n",
    "\n",
    "# Run the algorithm\n",
    "aco.run()\n",
    "\n",
    "# Print the best solution and its distance\n",
    "print(\"Best solution:\", aco.best_solution)\n",
    "print(\"Best distance:\", aco.best_distance)"
   ]
  },
  {
   "cell_type": "code",
   "execution_count": null,
   "metadata": {},
   "outputs": [],
   "source": []
  }
 ],
 "metadata": {
  "kernelspec": {
   "display_name": "Python 3 (ipykernel)",
   "language": "python",
   "name": "python3"
  },
  "language_info": {
   "codemirror_mode": {
    "name": "ipython",
    "version": 3
   },
   "file_extension": ".py",
   "mimetype": "text/x-python",
   "name": "python",
   "nbconvert_exporter": "python",
   "pygments_lexer": "ipython3",
   "version": "3.9.12"
  }
 },
 "nbformat": 4,
 "nbformat_minor": 2
}
