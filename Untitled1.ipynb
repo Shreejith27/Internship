{
 "cells": [
  {
   "cell_type": "code",
   "execution_count": 2,
   "id": "b79a5548",
   "metadata": {},
   "outputs": [
    {
     "name": "stdout",
     "output_type": "stream",
     "text": [
      "Collecting pyswarm\n",
      "  Downloading pyswarm-0.6.tar.gz (4.3 kB)\n",
      "Requirement already satisfied: numpy in c:\\users\\shreejith pillai\\anaconda3\\lib\\site-packages (from pyswarm) (1.21.5)\n",
      "Building wheels for collected packages: pyswarm\n",
      "  Building wheel for pyswarm (setup.py): started\n",
      "  Building wheel for pyswarm (setup.py): finished with status 'done'\n",
      "  Created wheel for pyswarm: filename=pyswarm-0.6-py3-none-any.whl size=4481 sha256=ce960ccfb41b9f2cc1c4cb7d8dada5d0921fbfde69374675ff37f8d62c8af9f7\n",
      "  Stored in directory: c:\\users\\shreejith pillai\\appdata\\local\\pip\\cache\\wheels\\ff\\d2\\b7\\80118e5698de2bd0b8d1b3397abf7fdfc45c15ffc454b52145\n",
      "Successfully built pyswarm\n",
      "Installing collected packages: pyswarm\n",
      "Successfully installed pyswarm-0.6\n",
      "Note: you may need to restart the kernel to use updated packages.\n"
     ]
    }
   ],
   "source": [
    "pip install pyswarm\n"
   ]
  },
  {
   "cell_type": "code",
   "execution_count": 2,
   "id": "8bf5d0c4",
   "metadata": {},
   "outputs": [],
   "source": [
    "import networkx as nx\n",
    "import numpy as np\n",
    "import random\n",
    "import matplotlib.pyplot as plt"
   ]
  },
  {
   "cell_type": "code",
   "execution_count": 7,
   "id": "3a24e6d3",
   "metadata": {},
   "outputs": [],
   "source": [
    "# Define the graph\n",
    "G = nx.Graph()\n",
    "G.add_edges_from([(1, 2), (1, 3), (2, 3), (2, 4), (3, 4)])\n",
    "\n",
    "# Number of vertices in the graph\n",
    "num_vertices = G.number_of_nodes()\n",
    "\n",
    "# Number of colors\n",
    "num_colors = 4"
   ]
  },
  {
   "cell_type": "code",
   "execution_count": 8,
   "id": "1ee19889",
   "metadata": {},
   "outputs": [],
   "source": [
    "# Define the fitness function\n",
    "def fitness_function(color_assignment):\n",
    "    conflicts = 0\n",
    "    for u, v in G.edges():\n",
    "        if color_assignment[u] == color_assignment[v]:\n",
    "            conflicts += 1\n",
    "    return conflicts\n"
   ]
  },
  {
   "cell_type": "code",
   "execution_count": 9,
   "id": "fb54b469",
   "metadata": {},
   "outputs": [],
   "source": [
    "# Define the PSO algorithm\n",
    "def pso(num_particles, num_iterations):\n",
    "    # Initialize particles and velocities\n",
    "    particles = np.random.randint(num_colors, size=(num_particles, num_vertices))\n",
    "    velocities = np.zeros((num_particles, num_vertices))\n",
    "\n",
    "    # Initialize best positions and global best\n",
    "    best_positions = np.copy(particles)\n",
    "    global_best = particles[0]\n",
    "    global_best_fitness = fitness_function(global_best)\n",
    "\n",
    "    # Initialize the best fitness values\n",
    "    best_fitness_values = []\n",
    "\n",
    "    for _ in range(num_iterations):\n",
    "        for i in range(num_particles):\n",
    "            # Update the velocity\n",
    "            velocities[i] = velocities[i] + random.random() * (best_positions[i] - particles[i]) \\\n",
    "                            + random.random() * (global_best - particles[i])\n",
    "\n",
    "            # Update the position\n",
    "            particles[i] = particles[i] + velocities[i]\n",
    "\n",
    "            # Ensure positions are within the bounds\n",
    "            particles[i] = np.clip(particles[i], 0, num_colors - 1)\n",
    "\n",
    "            # Update the personal best\n",
    "            fitness = fitness_function(particles[i])\n",
    "            if fitness < fitness_function(best_positions[i]):\n",
    "                best_positions[i] = np.copy(particles[i])\n",
    "\n",
    "            # Update the global best\n",
    "            if fitness < global_best_fitness:\n",
    "                global_best = np.copy(particles[i])\n",
    "                global_best_fitness = fitness\n",
    "\n",
    "        # Update the best fitness values\n",
    "        best_fitness_values.append(global_best_fitness)\n",
    "\n",
    "    return global_best, best_fitness_values"
   ]
  },
  {
   "cell_type": "code",
   "execution_count": 10,
   "id": "0a834d47",
   "metadata": {},
   "outputs": [
    {
     "ename": "IndexError",
     "evalue": "index 4 is out of bounds for axis 0 with size 4",
     "output_type": "error",
     "traceback": [
      "\u001b[1;31m---------------------------------------------------------------------------\u001b[0m",
      "\u001b[1;31mIndexError\u001b[0m                                Traceback (most recent call last)",
      "Input \u001b[1;32mIn [10]\u001b[0m, in \u001b[0;36m<cell line: 4>\u001b[1;34m()\u001b[0m\n\u001b[0;32m      2\u001b[0m num_particles \u001b[38;5;241m=\u001b[39m \u001b[38;5;241m30\u001b[39m\n\u001b[0;32m      3\u001b[0m num_iterations \u001b[38;5;241m=\u001b[39m \u001b[38;5;241m100\u001b[39m\n\u001b[1;32m----> 4\u001b[0m best_color_assignment, best_fitness_values \u001b[38;5;241m=\u001b[39m \u001b[43mpso\u001b[49m\u001b[43m(\u001b[49m\u001b[43mnum_particles\u001b[49m\u001b[43m,\u001b[49m\u001b[43m \u001b[49m\u001b[43mnum_iterations\u001b[49m\u001b[43m)\u001b[49m\n\u001b[0;32m      6\u001b[0m \u001b[38;5;66;03m# Visualize the colored graph\u001b[39;00m\n\u001b[0;32m      7\u001b[0m node_colors \u001b[38;5;241m=\u001b[39m [best_color_assignment[v] \u001b[38;5;28;01mfor\u001b[39;00m v \u001b[38;5;129;01min\u001b[39;00m G\u001b[38;5;241m.\u001b[39mnodes()]\n",
      "Input \u001b[1;32mIn [9]\u001b[0m, in \u001b[0;36mpso\u001b[1;34m(num_particles, num_iterations)\u001b[0m\n\u001b[0;32m      8\u001b[0m best_positions \u001b[38;5;241m=\u001b[39m np\u001b[38;5;241m.\u001b[39mcopy(particles)\n\u001b[0;32m      9\u001b[0m global_best \u001b[38;5;241m=\u001b[39m particles[\u001b[38;5;241m0\u001b[39m]\n\u001b[1;32m---> 10\u001b[0m global_best_fitness \u001b[38;5;241m=\u001b[39m \u001b[43mfitness_function\u001b[49m\u001b[43m(\u001b[49m\u001b[43mglobal_best\u001b[49m\u001b[43m)\u001b[49m\n\u001b[0;32m     12\u001b[0m \u001b[38;5;66;03m# Initialize the best fitness values\u001b[39;00m\n\u001b[0;32m     13\u001b[0m best_fitness_values \u001b[38;5;241m=\u001b[39m []\n",
      "Input \u001b[1;32mIn [8]\u001b[0m, in \u001b[0;36mfitness_function\u001b[1;34m(color_assignment)\u001b[0m\n\u001b[0;32m      3\u001b[0m conflicts \u001b[38;5;241m=\u001b[39m \u001b[38;5;241m0\u001b[39m\n\u001b[0;32m      4\u001b[0m \u001b[38;5;28;01mfor\u001b[39;00m u, v \u001b[38;5;129;01min\u001b[39;00m G\u001b[38;5;241m.\u001b[39medges():\n\u001b[1;32m----> 5\u001b[0m     \u001b[38;5;28;01mif\u001b[39;00m color_assignment[u] \u001b[38;5;241m==\u001b[39m \u001b[43mcolor_assignment\u001b[49m\u001b[43m[\u001b[49m\u001b[43mv\u001b[49m\u001b[43m]\u001b[49m:\n\u001b[0;32m      6\u001b[0m         conflicts \u001b[38;5;241m+\u001b[39m\u001b[38;5;241m=\u001b[39m \u001b[38;5;241m1\u001b[39m\n\u001b[0;32m      7\u001b[0m \u001b[38;5;28;01mreturn\u001b[39;00m conflicts\n",
      "\u001b[1;31mIndexError\u001b[0m: index 4 is out of bounds for axis 0 with size 4"
     ]
    }
   ],
   "source": [
    "# Run the PSO algorithm\n",
    "num_particles = 30\n",
    "num_iterations = 100\n",
    "best_color_assignment, best_fitness_values = pso(num_particles, num_iterations)\n",
    "\n",
    "# Visualize the colored graph\n",
    "node_colors = [best_color_assignment[v] for v in G.nodes()]\n",
    "pos = nx.spring_layout(G)\n",
    "nx.draw(G, pos, with_labels=True, node_color=node_colors, cmap='rainbow')\n",
    "plt.show()"
   ]
  },
  {
   "cell_type": "code",
   "execution_count": null,
   "id": "1b3fb366",
   "metadata": {},
   "outputs": [],
   "source": []
  }
 ],
 "metadata": {
  "kernelspec": {
   "display_name": "Python 3 (ipykernel)",
   "language": "python",
   "name": "python3"
  },
  "language_info": {
   "codemirror_mode": {
    "name": "ipython",
    "version": 3
   },
   "file_extension": ".py",
   "mimetype": "text/x-python",
   "name": "python",
   "nbconvert_exporter": "python",
   "pygments_lexer": "ipython3",
   "version": "3.9.12"
  }
 },
 "nbformat": 4,
 "nbformat_minor": 5
}
