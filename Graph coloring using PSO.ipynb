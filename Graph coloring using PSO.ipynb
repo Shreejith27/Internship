{
 "cells": [
  {
   "cell_type": "code",
   "execution_count": 1,
   "id": "fa71980d",
   "metadata": {},
   "outputs": [],
   "source": [
    "import numpy as np\n",
    "import networkx as nx\n",
    "import matplotlib.pyplot as plt\n",
    "import random"
   ]
  },
  {
   "cell_type": "code",
   "execution_count": 4,
   "id": "0bb7ad9c",
   "metadata": {},
   "outputs": [
    {
     "name": "stdout",
     "output_type": "stream",
     "text": [
      "Best color assignments: [1, 0, 2, 0, 2, 0, 2]\n"
     ]
    }
   ],
   "source": [
    "def fitness_function(position):\n",
    "    conflicts = 0\n",
    "    for i in range(num_vertices):\n",
    "        for j in range(i + 1, num_vertices):\n",
    "            if graph[i][j] and position[i] == position[j]:\n",
    "                conflicts += 1\n",
    "    return conflicts\n",
    "\n",
    "def pso(num_particles, num_iterations):\n",
    "    particles = np.random.randint(num_colors, size=(num_particles, num_vertices))\n",
    "    velocities = np.zeros((num_particles, num_vertices))\n",
    "    best_positions = np.copy(particles)\n",
    "    global_best = particles[0]\n",
    "    global_best_fitness = fitness_function(global_best)\n",
    "    best_fitness_values = []\n",
    "\n",
    "    for _ in range(num_iterations):\n",
    "        for i in range(num_particles):\n",
    "            velocities[i] = velocities[i] + random.random() * (best_positions[i] - particles[i]) \\\n",
    "                            + random.random() * (global_best - particles[i])\n",
    "            particles[i] = particles[i] + velocities[i]\n",
    "            particles[i] = np.clip(particles[i], 0, num_colors - 1)\n",
    "            \n",
    "            # Check and update color based on adjacency\n",
    "            for j in range(num_vertices):\n",
    "                colors_used = set(particles[i, k] for k in range(num_vertices) if graph[j, k])\n",
    "                available_colors = set(range(num_colors)) - colors_used\n",
    "                if particles[i, j] not in available_colors:\n",
    "                    if available_colors:\n",
    "                        particles[i, j] = min(available_colors)\n",
    "                    else:\n",
    "                        particles[i, j] = num_colors  # Assign a new color\n",
    "            \n",
    "            if fitness_function(particles[i]) < fitness_function(best_positions[i]):\n",
    "                best_positions[i] = np.copy(particles[i])\n",
    "            if fitness_function(particles[i]) < global_best_fitness:\n",
    "                global_best = np.copy(particles[i])\n",
    "                global_best_fitness = fitness_function(global_best)\n",
    "        best_fitness_values.append(global_best_fitness)\n",
    "\n",
    "    return global_best, best_fitness_values\n",
    "\n",
    "# Define the graph using adjacency matrix\n",
    "# graph = np.array([[0, 1, 1, 0],\n",
    "#                   [1, 0, 1, 1],\n",
    "#                   [1, 1, 0, 1],\n",
    "#                   [0, 1, 1, 0]])\n",
    "\n",
    "graph = np.array([\n",
    "    [0, 1, 0, 0, 0, 0, 0],\n",
    "    [1, 0, 1, 0, 0, 0, 0],\n",
    "    [0, 1, 0, 1, 0, 0, 0],\n",
    "    [0, 0, 1, 0 ,1, 0, 0],\n",
    "    [0, 0, 0, 1, 0, 1, 0],\n",
    "    [0, 0, 0, 0, 1, 0, 1],\n",
    "    [1, 0, 0, 0, 0, 1, 0]\n",
    "])\n",
    "\n",
    "# Number of vertices in the graph\n",
    "num_vertices = graph.shape[0]\n",
    "\n",
    "# Number of colors\n",
    "num_colors = 3\n",
    "\n",
    "# Parameters for PSO\n",
    "num_particles = 3\n",
    "num_iterations =20\n",
    "\n",
    "# Solve the graph coloring problem using PSO\n",
    "best_color_assignment, best_fitness_values = pso(num_particles, num_iterations)\n",
    "\n",
    "# Calculate the minimum number of colors required\n",
    "min_num_colors = max(best_color_assignment) + 1\n",
    "\n",
    "# Color the graph using the minimum number of colors required\n",
    "if min_num_colors <= num_colors:\n",
    "    num_colors = min_num_colors\n",
    "    best_color_assignment = [color % num_colors for color in best_color_assignment]\n",
    "else:\n",
    "    raise ValueError(\"The graph cannot be colored within the given number of colors.\")\n",
    "\n",
    "# Print the best color assignments for each vertex\n",
    "print(\"Best color assignments:\", best_color_assignment)"
   ]
  },
  {
   "cell_type": "code",
   "execution_count": 5,
   "id": "ec79f00f",
   "metadata": {},
   "outputs": [
    {
     "data": {
      "image/png": "[encoded data removed]",
      "text/plain": [
       "<Figure size 432x288 with 1 Axes>"
      ]
     },
     "metadata": {},
     "output_type": "display_data"
    }
   ],
   "source": [
    "# Create a graph using NetworkX\n",
    "G = nx.from_numpy_matrix(graph)\n",
    "\n",
    "# Assign colors to nodes\n",
    "node_colors = [best_color_assignment[i] for i in range(num_vertices)]\n",
    "\n",
    "# Visualize the colored graph\n",
    "pos = nx.spring_layout(G)\n",
    "nx.draw(G, pos, with_labels=True, node_color=node_colors, cmap='rainbow')\n",
    "plt.show()\n"
   ]
  },
  {
   "cell_type": "code",
   "execution_count": null,
   "id": "16ca52e1",
   "metadata": {},
   "outputs": [],
   "source": []
  }
 ],
 "metadata": {
  "kernelspec": {
   "display_name": "Python 3 (ipykernel)",
   "language": "python",
   "name": "python3"
  },
  "language_info": {
   "codemirror_mode": {
    "name": "ipython",
    "version": 3
   },
   "file_extension": ".py",
   "mimetype": "text/x-python",
   "name": "python",
   "nbconvert_exporter": "python",
   "pygments_lexer": "ipython3",
   "version": "3.9.12"
  }
 },
 "nbformat": 4,
 "nbformat_minor": 5
}
