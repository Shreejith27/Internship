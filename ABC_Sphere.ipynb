{
 "cells": [
  {
   "cell_type": "code",
   "execution_count": 1,
   "metadata": {},
   "outputs": [],
   "source": [
    "import numpy as np\n",
    "import matplotlib.pyplot as plt"
   ]
  },
  {
   "cell_type": "code",
   "execution_count": 2,
   "metadata": {},
   "outputs": [],
   "source": [
    "def objective_function(x):\n",
    "    return np.sum(np.square(x))"
   ]
  },
  {
   "cell_type": "code",
   "execution_count": 16,
   "metadata": {},
   "outputs": [],
   "source": [
    "def abc_algorithm(dimension, colony_size, max_iter):\n",
    "    # Initialize the population\n",
    "    population = np.random.uniform(low=-5.12, high=5.12, size=(colony_size, dimension))\n",
    "    # Evaluate the fitness of each solution in the population\n",
    "    fitness = np.apply_along_axis(objective_function, 1, population)\n",
    "    # Find the best solution in the population\n",
    "    best_solution = population[np.argmin(fitness)]\n",
    "    # Iterate until the maximum number of iterations is reached\n",
    "    best_fitness=[]\n",
    "    \n",
    "    for i in range(max_iter):\n",
    "        # Employed bees phase\n",
    "        for j in range(colony_size):\n",
    "            # Choose a random solution different from the current one\n",
    "            k = np.random.choice([idx for idx in range(colony_size) if idx != j])\n",
    "            # Generate a new solution by adding a small random perturbation to the current one\n",
    "            phi = np.random.uniform(low=-1, high=1, size=dimension)\n",
    "            new_solution = population[j] + phi * (population[j] - population[k])\n",
    "            # Evaluate the fitness of the new solution\n",
    "            new_fitness = objective_function(new_solution)\n",
    "            trial_val=np.zeros(colony_size)\n",
    "            # Update the population if the new solution is better than the current one\n",
    "            if new_fitness < fitness[j]:\n",
    "                population[j] = new_solution\n",
    "                fitness[j] = new_fitness\n",
    "            \n",
    "            if new_fitness < fitness[j]:\n",
    "                trial_val[j]==0\n",
    "            else:\n",
    "                trial_val[j] += 1\n",
    "        # Calculate the probabilities for onlooker bees to choose solutions based on their fitness\n",
    "        probabilities = fitness / np.sum(fitness)\n",
    "        # Onlooker bees phase\n",
    "        for j in range(colony_size):\n",
    "            # Choose a solution based on its fitness\n",
    "            k = np.random.choice(range(colony_size), p=probabilities)\n",
    "            # Generate a new solution by adding a small random perturbation to the chosen one\n",
    "            phi = np.random.uniform(low=-1, high=1, size=dimension)\n",
    "            new_solution = population[k] + phi * (population[k] - population[j])\n",
    "            # Evaluate the fitness of the new solution\n",
    "            new_fitness = objective_function(new_solution)\n",
    "            # Update the population if the new solution is better than the current one\n",
    "            if new_fitness < fitness[j]:\n",
    "                population[j] = new_solution\n",
    "                fitness[j] = new_fitness\n",
    "            \n",
    "            if new_fitness < fitness[j]:\n",
    "                trial_val[j]==0\n",
    "            else:\n",
    "                trial_val[j] += 1\n",
    "                \n",
    "        # Scout bees phase\n",
    "        for j in range(colony_size):\n",
    "            # Generate a new solution randomly if the current one has not been improved after a certain number of iterations\n",
    "            if trial_val[j] > 1:\n",
    "                population[j] = np.random.uniform(low=-5.12, high=5.12, size=dimension)\n",
    "                fitness[j] = objective_function(population[j])\n",
    "        # Find the best solution in the population\n",
    "        new_best_solution = population[np.argmin(fitness)]\n",
    "        # Update the best solution if a better one is found\n",
    "        if objective_function(new_best_solution) < objective_function(best_solution):\n",
    "            best_solution = new_best_solution \n",
    "    return best_solution\n"
   ]
  },
  {
   "cell_type": "code",
   "execution_count": 18,
   "metadata": {},
   "outputs": [
    {
     "name": "stdout",
     "output_type": "stream",
     "text": [
      "Best solution found: [1.31879392e-07 1.37176055e-07]\n",
      "Objective function value: 3.620944429580674e-14\n"
     ]
    }
   ],
   "source": [
    "best_solution = abc_algorithm(dimension=2, colony_size=10, max_iter=100)\n",
    "print(\"Best solution found:\", best_solution)\n",
    "print(\"Objective function value:\", objective_function(best_solution))"
   ]
  },
  {
   "cell_type": "markdown",
   "metadata": {},
   "source": []
  },
  {
   "cell_type": "code",
   "execution_count": null,
   "metadata": {},
   "outputs": [],
   "source": []
  },
  {
   "cell_type": "code",
   "execution_count": null,
   "metadata": {},
   "outputs": [],
   "source": []
  }
 ],
 "metadata": {
  "kernelspec": {
   "display_name": "Python 3 (ipykernel)",
   "language": "python",
   "name": "python3"
  },
  "language_info": {
   "codemirror_mode": {
    "name": "ipython",
    "version": 3
   },
   "file_extension": ".py",
   "mimetype": "text/x-python",
   "name": "python",
   "nbconvert_exporter": "python",
   "pygments_lexer": "ipython3",
   "version": "3.9.12"
  },
  "vscode": {
   "interpreter": {
    "hash": "6cefdf331f7c5cdaec52c48062c4451f1adc1214d6ddb7bda482f22c62ffb078"
   }
  }
 },
 "nbformat": 4,
 "nbformat_minor": 2
}
